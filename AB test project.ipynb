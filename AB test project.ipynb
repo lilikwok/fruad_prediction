{
 "cells": [
  {
   "cell_type": "code",
   "execution_count": 2,
   "metadata": {},
   "outputs": [],
   "source": [
    "import pyspark\n",
    "import pyspark.sql\n",
    "from pyspark.sql import SQLContext\n",
    "sc = SparkContext.getOrCreate()\n",
    "sqlContext = SQLContext(sc)"
   ]
  },
  {
   "cell_type": "code",
   "execution_count": 3,
   "metadata": {},
   "outputs": [],
   "source": [
    "test = sqlContext.read.csv(\"data\\\\test_table.csv\",header = True) # \\t is tap; need to use \\\\"
   ]
  },
  {
   "cell_type": "code",
   "execution_count": 4,
   "metadata": {},
   "outputs": [],
   "source": [
    "user = sqlContext.read.csv(\"data\\\\user_table.csv\",header = True)"
   ]
  },
  {
   "cell_type": "markdown",
   "metadata": {},
   "source": [
    "# SparkSQL "
   ]
  },
  {
   "cell_type": "markdown",
   "metadata": {},
   "source": [
    "## test file "
   ]
  },
  {
   "cell_type": "code",
   "execution_count": 5,
   "metadata": {},
   "outputs": [
    {
     "name": "stdout",
     "output_type": "stream",
     "text": [
      "+-------+----------+------+------+----------------+-----------+-----------+----------+----+\n",
      "|user_id|      date|source|device|browser_language|ads_channel|    browser|conversion|test|\n",
      "+-------+----------+------+------+----------------+-----------+-----------+----------+----+\n",
      "| 315281|2015-12-03|Direct|   Web|              ES|         NA|         IE|         1|   0|\n",
      "| 497851|2015-12-04|   Ads|   Web|              ES|     Google|         IE|         0|   1|\n",
      "| 848402|2015-12-04|   Ads|   Web|              ES|   Facebook|     Chrome|         0|   0|\n",
      "| 290051|2015-12-03|   Ads|Mobile|           Other|   Facebook|Android_App|         0|   1|\n",
      "| 548435|2015-11-30|   Ads|   Web|              ES|     Google|    FireFox|         0|   1|\n",
      "| 540675|2015-12-03|Direct|Mobile|              ES|         NA|Android_App|         0|   1|\n",
      "| 863394|2015-12-04|   SEO|Mobile|           Other|         NA|Android_App|         0|   0|\n",
      "| 527287|2015-12-03|Direct|   Web|              EN|         NA|     Chrome|         0|   0|\n",
      "| 261625|2015-12-04|Direct|Mobile|              ES|         NA|Android_App|         0|   1|\n",
      "|  10427|2015-12-04|   Ads|Mobile|              ES|   Facebook|Android_App|         0|   0|\n",
      "|   8343|2015-11-30|   Ads|Mobile|              ES|       Bing|Android_App|         1|   0|\n",
      "|  73335|2015-12-03|   SEO|   Web|              ES|         NA|         IE|         0|   1|\n",
      "| 744811|2015-12-01|   SEO|Mobile|              ES|         NA|Android_App|         1|   0|\n",
      "| 234023|2015-12-03|   SEO|   Web|              ES|         NA|     Chrome|         0|   0|\n",
      "| 207018|2015-12-03|   Ads|   Web|              ES|     Google|     Chrome|         0|   0|\n",
      "| 103879|2015-11-30|Direct|Mobile|              ES|         NA| Iphone_App|         0|   0|\n",
      "| 409295|2015-12-02|Direct|   Web|              ES|         NA|    FireFox|         0|   1|\n",
      "| 313345|2015-12-01|   SEO|   Web|              ES|         NA|         IE|         0|   0|\n",
      "| 464816|2015-12-01|Direct|   Web|              ES|         NA|    FireFox|         0|   0|\n",
      "| 740007|2015-11-30|   SEO|   Web|              ES|         NA|     Chrome|         0|   1|\n",
      "+-------+----------+------+------+----------------+-----------+-----------+----------+----+\n",
      "only showing top 20 rows\n",
      "\n"
     ]
    }
   ],
   "source": [
    "test.show()"
   ]
  },
  {
   "cell_type": "code",
   "execution_count": 6,
   "metadata": {},
   "outputs": [
    {
     "data": {
      "text/plain": [
       "453321"
      ]
     },
     "execution_count": 6,
     "metadata": {},
     "output_type": "execute_result"
    }
   ],
   "source": [
    "# Number of Rows \n",
    "test.count()"
   ]
  },
  {
   "cell_type": "code",
   "execution_count": 7,
   "metadata": {},
   "outputs": [
    {
     "name": "stdout",
     "output_type": "stream",
     "text": [
      "root\n",
      " |-- user_id: string (nullable = true)\n",
      " |-- date: string (nullable = true)\n",
      " |-- source: string (nullable = true)\n",
      " |-- device: string (nullable = true)\n",
      " |-- browser_language: string (nullable = true)\n",
      " |-- ads_channel: string (nullable = true)\n",
      " |-- browser: string (nullable = true)\n",
      " |-- conversion: string (nullable = true)\n",
      " |-- test: string (nullable = true)\n",
      "\n"
     ]
    }
   ],
   "source": [
    "test.printSchema()"
   ]
  },
  {
   "cell_type": "code",
   "execution_count": 8,
   "metadata": {},
   "outputs": [
    {
     "data": {
      "text/plain": [
       "['user_id',\n",
       " 'date',\n",
       " 'source',\n",
       " 'device',\n",
       " 'browser_language',\n",
       " 'ads_channel',\n",
       " 'browser',\n",
       " 'conversion',\n",
       " 'test']"
      ]
     },
     "execution_count": 8,
     "metadata": {},
     "output_type": "execute_result"
    }
   ],
   "source": [
    "test.columns"
   ]
  },
  {
   "cell_type": "code",
   "execution_count": 9,
   "metadata": {},
   "outputs": [
    {
     "name": "stdout",
     "output_type": "stream",
     "text": [
      "date\n",
      "+----------+------+\n",
      "|      date| count|\n",
      "+----------+------+\n",
      "|2015-12-03| 99493|\n",
      "|2015-11-30| 71025|\n",
      "|2015-12-02| 70649|\n",
      "|2015-12-04|141163|\n",
      "|2015-12-01| 70991|\n",
      "+----------+------+\n",
      "\n",
      "source\n",
      "+------+------+\n",
      "|source| count|\n",
      "+------+------+\n",
      "|   SEO|180610|\n",
      "|Direct| 90834|\n",
      "|   Ads|181877|\n",
      "+------+------+\n",
      "\n",
      "device\n",
      "+------+------+\n",
      "|device| count|\n",
      "+------+------+\n",
      "|Mobile|201756|\n",
      "|   Web|251565|\n",
      "+------+------+\n",
      "\n",
      "browser_language\n",
      "+----------------+------+\n",
      "|browser_language| count|\n",
      "+----------------+------+\n",
      "|              EN| 63137|\n",
      "|              ES|377547|\n",
      "|           Other| 12637|\n",
      "+----------------+------+\n",
      "\n",
      "ads_channel\n",
      "+-----------+------+\n",
      "|ads_channel| count|\n",
      "+-----------+------+\n",
      "|         NA|271444|\n",
      "|      Yahoo| 27435|\n",
      "|       Bing| 13689|\n",
      "|      Other|  4148|\n",
      "|     Google| 68180|\n",
      "|   Facebook| 68425|\n",
      "+-----------+------+\n",
      "\n",
      "browser\n",
      "+-----------+------+\n",
      "|    browser| count|\n",
      "+-----------+------+\n",
      "| Iphone_App| 46621|\n",
      "|    FireFox| 40766|\n",
      "|     Safari| 41065|\n",
      "|Android_App|155135|\n",
      "|         IE| 61715|\n",
      "|     Chrome|101929|\n",
      "|      Opera|  6090|\n",
      "+-----------+------+\n",
      "\n",
      "conversion\n",
      "+----------+------+\n",
      "|conversion| count|\n",
      "+----------+------+\n",
      "|         0|430846|\n",
      "|         1| 22475|\n",
      "+----------+------+\n",
      "\n",
      "test\n",
      "+----+------+\n",
      "|test| count|\n",
      "+----+------+\n",
      "|   0|237338|\n",
      "|   1|215983|\n",
      "+----+------+\n",
      "\n"
     ]
    }
   ],
   "source": [
    "def group_by(x):\n",
    "    test.groupBy(x).count().show()\n",
    "for i in test.columns:\n",
    "    if i != 'user_id':\n",
    "        print(i)\n",
    "        group_by(i)"
   ]
  },
  {
   "cell_type": "markdown",
   "metadata": {},
   "source": [
    "Data Summary: \n",
    "1. [Date] The data records 5-day web transaction \n",
    "2. [Source] Most of the users came to the website through SEO or Ads\n",
    "3. [device] Over half of the users visit the website through laptop or PC\n",
    "4. [Brower_language] Most of the users browse the website using Spanish, in this case we only consider spanish-speaking users\n",
    "5. [ads_channel] Google and Facebook ads is more effective than others \n",
    "6. [browser] Most of the users visite the website through Chrome and Android_APP\n",
    "7. [conversion] 430846 users did not make transactions, only small proportion of users (22475) make transactions\n",
    "8. [test] over half of the users did not take the test.We expect none of the Spain-based users and non-spanish users did not have the test"
   ]
  },
  {
   "cell_type": "code",
   "execution_count": 10,
   "metadata": {},
   "outputs": [
    {
     "name": "stdout",
     "output_type": "stream",
     "text": [
      "+----+-----+\n",
      "|test|count|\n",
      "+----+-----+\n",
      "|   0|39565|\n",
      "|   1|36209|\n",
      "+----+-----+\n",
      "\n"
     ]
    }
   ],
   "source": [
    "# Hypothesis: Non-spanish-speaking users are not necessary for the test \n",
    "# Fact: almost half of non-spanis-speaking users are in the test \n",
    "# Solutions: We should not take these users into account \n",
    "test.filter(test.browser_language != 'ES').groupBy('test').count().show()"
   ]
  },
  {
   "cell_type": "code",
   "execution_count": 11,
   "metadata": {},
   "outputs": [
    {
     "name": "stdout",
     "output_type": "stream",
     "text": [
      "+----+----------+------+\n",
      "|test|conversion| count|\n",
      "+----+----------+------+\n",
      "|   0|         1| 13096|\n",
      "|   1|         1|  9379|\n",
      "|   0|         0|224242|\n",
      "|   1|         0|206604|\n",
      "+----+----------+------+\n",
      "\n"
     ]
    }
   ],
   "source": [
    "test.groupby(['test','conversion']).count().show()"
   ]
  },
  {
   "cell_type": "markdown",
   "metadata": {},
   "source": [
    "## user"
   ]
  },
  {
   "cell_type": "code",
   "execution_count": 12,
   "metadata": {},
   "outputs": [
    {
     "data": {
      "text/plain": [
       "['user_id', 'sex', 'age', 'country']"
      ]
     },
     "execution_count": 12,
     "metadata": {},
     "output_type": "execute_result"
    }
   ],
   "source": [
    "user.columns"
   ]
  },
  {
   "cell_type": "code",
   "execution_count": 13,
   "metadata": {},
   "outputs": [
    {
     "name": "stdout",
     "output_type": "stream",
     "text": [
      "root\n",
      " |-- user_id: string (nullable = true)\n",
      " |-- sex: string (nullable = true)\n",
      " |-- age: string (nullable = true)\n",
      " |-- country: string (nullable = true)\n",
      "\n"
     ]
    }
   ],
   "source": [
    "user.printSchema()"
   ]
  },
  {
   "cell_type": "code",
   "execution_count": 14,
   "metadata": {},
   "outputs": [
    {
     "name": "stdout",
     "output_type": "stream",
     "text": [
      "+-------+---+---+---------+\n",
      "|user_id|sex|age|  country|\n",
      "+-------+---+---+---------+\n",
      "| 765821|  M| 20|   Mexico|\n",
      "| 343561|  F| 27|Nicaragua|\n",
      "| 118744|  M| 23| Colombia|\n",
      "| 987753|  F| 27|Venezuela|\n",
      "| 554597|  F| 20|    Spain|\n",
      "|  62371|  M| 29|  Ecuador|\n",
      "| 987967|  M| 31|    Spain|\n",
      "| 499510|  F| 29| Paraguay|\n",
      "| 364726|  F| 29| Colombia|\n",
      "| 572551|  M| 21|  Bolivia|\n",
      "| 224416|  F| 49|    Spain|\n",
      "| 601332|  M| 29|Argentina|\n",
      "| 518243|  M| 24|    Spain|\n",
      "| 585161|  M| 20|     Peru|\n",
      "| 638738|  F| 22|Venezuela|\n",
      "| 751480|  F| 18|   Mexico|\n",
      "| 281279|  M| 37|  Ecuador|\n",
      "| 692649|  M| 18|   Mexico|\n",
      "| 966822|  F| 25|     Peru|\n",
      "| 270794|  M| 26|    Spain|\n",
      "+-------+---+---+---------+\n",
      "only showing top 20 rows\n",
      "\n"
     ]
    }
   ],
   "source": [
    "user.show(20)"
   ]
  },
  {
   "cell_type": "code",
   "execution_count": 15,
   "metadata": {},
   "outputs": [
    {
     "data": {
      "text/plain": [
       "452867"
      ]
     },
     "execution_count": 15,
     "metadata": {},
     "output_type": "execute_result"
    }
   ],
   "source": [
    "user.count()"
   ]
  },
  {
   "cell_type": "code",
   "execution_count": 16,
   "metadata": {},
   "outputs": [
    {
     "name": "stdout",
     "output_type": "stream",
     "text": [
      "+---+------+\n",
      "|sex| count|\n",
      "+---+------+\n",
      "|  M|264485|\n",
      "|  F|188382|\n",
      "+---+------+\n",
      "\n",
      "+-----------+------+\n",
      "|    country| count|\n",
      "+-----------+------+\n",
      "|     Mexico|128484|\n",
      "|   Colombia| 54060|\n",
      "|      Spain| 51782|\n",
      "|  Argentina| 46733|\n",
      "|       Peru| 33666|\n",
      "|  Venezuela| 32054|\n",
      "|      Chile| 19737|\n",
      "|    Ecuador| 15895|\n",
      "|  Guatemala| 15125|\n",
      "|    Bolivia| 11124|\n",
      "|   Honduras|  8568|\n",
      "|El Salvador|  8175|\n",
      "|   Paraguay|  7347|\n",
      "|  Nicaragua|  6723|\n",
      "| Costa Rica|  5309|\n",
      "|    Uruguay|  4134|\n",
      "|     Panama|  3951|\n",
      "+-----------+------+\n",
      "\n"
     ]
    }
   ],
   "source": [
    "for i in user.columns:\n",
    "    if i !='user_id' and i != 'age':\n",
    "        user.groupBy(i).count().orderBy('count',ascending = False).show()"
   ]
  },
  {
   "cell_type": "markdown",
   "metadata": {},
   "source": [
    "Summary: \n",
    "1. [sex] Most of the users are men\n",
    "2. [country] The biggest proportion of the user is from Mexico, Spain is the third country in terms of user population "
   ]
  },
  {
   "cell_type": "code",
   "execution_count": 17,
   "metadata": {},
   "outputs": [
    {
     "name": "stdout",
     "output_type": "stream",
     "text": [
      "+--------+\n",
      "|min(age)|\n",
      "+--------+\n",
      "|      18|\n",
      "+--------+\n",
      "\n",
      "+--------+\n",
      "|max(age)|\n",
      "+--------+\n",
      "|      70|\n",
      "+--------+\n",
      "\n"
     ]
    }
   ],
   "source": [
    "from pyspark.sql import functions as F\n",
    "user.select(F.min(\"age\")).show()\n",
    "user.select(F.max(\"age\")).show()"
   ]
  },
  {
   "cell_type": "markdown",
   "metadata": {},
   "source": [
    "## Join two table together"
   ]
  },
  {
   "cell_type": "code",
   "execution_count": 46,
   "metadata": {},
   "outputs": [],
   "source": [
    "df = test.join(user,on = 'user_id')"
   ]
  },
  {
   "cell_type": "code",
   "execution_count": 47,
   "metadata": {},
   "outputs": [
    {
     "name": "stdout",
     "output_type": "stream",
     "text": [
      "+-------+----------+------+------+----------------+-----------+-----------+----------+----+---+---+---------+\n",
      "|user_id|      date|source|device|browser_language|ads_channel|    browser|conversion|test|sex|age|  country|\n",
      "+-------+----------+------+------+----------------+-----------+-----------+----------+----+---+---+---------+\n",
      "| 100227|2015-12-04|   Ads|   Web|              ES|   Facebook|    FireFox|         0|   0|  M| 23|     Peru|\n",
      "| 100263|2015-11-30|   SEO|Mobile|              ES|         NA|Android_App|         0|   0|  M| 28|    Spain|\n",
      "| 100735|2015-12-01|   Ads|   Web|              ES|     Google|     Chrome|         0|   1|  F| 29|   Mexico|\n",
      "| 101122|2015-12-02|   Ads|Mobile|              EN|     Google|Android_App|         0|   1|  F| 44|  Uruguay|\n",
      "| 102113|2015-12-04|   Ads|Mobile|              ES|   Facebook|Android_App|         0|   1|  F| 33| Colombia|\n",
      "| 102521|2015-12-04|   Ads|Mobile|              EN|   Facebook|Android_App|         0|   0|  M| 44|   Mexico|\n",
      "| 102684|2015-12-04|Direct|   Web|              ES|         NA|     Chrome|         0|   1|  M| 27|Argentina|\n",
      "| 102745|2015-11-30|   Ads|   Web|              EN|     Google|     Safari|         0|   1|  F| 25|   Mexico|\n",
      "| 103050|2015-12-01|   Ads|   Web|              ES|   Facebook|         IE|         0|   0|  M| 29|  Bolivia|\n",
      "| 103368|2015-12-02|   Ads|Mobile|              ES|     Google|Android_App|         0|   1|  F| 29|   Mexico|\n",
      "| 103432|2015-11-30|   SEO|   Web|              ES|         NA|     Safari|         0|   0|  M| 23|   Mexico|\n",
      "|  10351|2015-12-03|   Ads|Mobile|              ES|       Bing|Android_App|         0|   1|  M| 30|   Mexico|\n",
      "| 103634|2015-11-30|   Ads|   Web|              ES|     Google|     Chrome|         0|   0|  F| 24|   Mexico|\n",
      "| 104344|2015-12-04|   SEO|Mobile|              ES|         NA|Android_App|         0|   0|  M| 24|Guatemala|\n",
      "|  10436|2015-12-04|   SEO|Mobile|              ES|         NA| Iphone_App|         0|   1|  M| 22|Argentina|\n",
      "| 104454|2015-12-02|   Ads|Mobile|              ES|     Google|Android_App|         0|   0|  F| 34|    Spain|\n",
      "| 104603|2015-12-03|Direct|Mobile|              ES|         NA|Android_App|         0|   1|  F| 33|Argentina|\n",
      "| 104665|2015-12-03|   SEO|   Web|              ES|         NA|     Chrome|         1|   0|  M| 19| Colombia|\n",
      "| 104870|2015-11-30|   Ads|Mobile|              EN|     Google| Iphone_App|         0|   1|  M| 30|  Ecuador|\n",
      "| 105344|2015-12-04|   Ads|Mobile|              ES|     Google| Iphone_App|         0|   1|  F| 57|Argentina|\n",
      "+-------+----------+------+------+----------------+-----------+-----------+----------+----+---+---+---------+\n",
      "only showing top 20 rows\n",
      "\n"
     ]
    }
   ],
   "source": [
    "df.show()"
   ]
  },
  {
   "cell_type": "code",
   "execution_count": 48,
   "metadata": {},
   "outputs": [
    {
     "data": {
      "text/plain": [
       "452867"
      ]
     },
     "execution_count": 48,
     "metadata": {},
     "output_type": "execute_result"
    }
   ],
   "source": [
    "df.count()"
   ]
  },
  {
   "cell_type": "code",
   "execution_count": 49,
   "metadata": {},
   "outputs": [
    {
     "data": {
      "text/plain": [
       "377160"
      ]
     },
     "execution_count": 49,
     "metadata": {},
     "output_type": "execute_result"
    }
   ],
   "source": [
    "# we need to filter out the non-spanish-speaking users \n",
    "new_df = df.filter(df.browser_language == 'ES')\n",
    "new_df.count()"
   ]
  },
  {
   "cell_type": "code",
   "execution_count": 79,
   "metadata": {},
   "outputs": [
    {
     "name": "stdout",
     "output_type": "stream",
     "text": [
      "+-----------+------+\n",
      "|    country| count|\n",
      "+-----------+------+\n",
      "|     Mexico|107086|\n",
      "|   Colombia| 44850|\n",
      "|      Spain| 43146|\n",
      "|  Argentina| 38997|\n",
      "|       Peru| 28000|\n",
      "|  Venezuela| 26733|\n",
      "|      Chile| 16433|\n",
      "|    Ecuador| 13262|\n",
      "|  Guatemala| 12610|\n",
      "|    Bolivia|  9254|\n",
      "|   Honduras|  7167|\n",
      "|El Salvador|  6775|\n",
      "|   Paraguay|  6089|\n",
      "|  Nicaragua|  5636|\n",
      "| Costa Rica|  4378|\n",
      "|    Uruguay|  3454|\n",
      "|     Panama|  3290|\n",
      "+-----------+------+\n",
      "\n"
     ]
    }
   ],
   "source": [
    "# User Population by country\n",
    "pop_df = new_df.groupBy('country').count().orderBy('count',ascending = False)\n",
    "pop_df.show()"
   ]
  },
  {
   "cell_type": "code",
   "execution_count": 78,
   "metadata": {},
   "outputs": [
    {
     "name": "stdout",
     "output_type": "stream",
     "text": [
      "+-----------+-----+\n",
      "|    country|count|\n",
      "+-----------+-----+\n",
      "|     Mexico| 5403|\n",
      "|      Spain| 3443|\n",
      "|   Colombia| 2330|\n",
      "|       Peru| 1398|\n",
      "|  Venezuela| 1344|\n",
      "|      Chile|  805|\n",
      "|    Ecuador|  658|\n",
      "|  Guatemala|  638|\n",
      "|  Argentina|  559|\n",
      "|    Bolivia|  458|\n",
      "|   Honduras|  357|\n",
      "|El Salvador|  351|\n",
      "|  Nicaragua|  306|\n",
      "|   Paraguay|  287|\n",
      "| Costa Rica|  229|\n",
      "|     Panama|  164|\n",
      "|    Uruguay|   37|\n",
      "+-----------+-----+\n",
      "\n"
     ]
    }
   ],
   "source": [
    "# Which country has a high conversion number? \n",
    "new_df.filter(df.conversion == '1').groupBy('country').count().orderBy('count',ascending = False).show()"
   ]
  },
  {
   "cell_type": "code",
   "execution_count": 62,
   "metadata": {},
   "outputs": [],
   "source": [
    "# without test, we want to caculate conversion rate by country\n",
    "conversion = new_df.filter((df.test == '0') & (df.conversion == '1')).groupBy('country').count()"
   ]
  },
  {
   "cell_type": "code",
   "execution_count": 63,
   "metadata": {},
   "outputs": [],
   "source": [
    "conversion = conversion.select(conversion['country'],conversion['count'].alias(\"Number of conversion\"))\n"
   ]
  },
  {
   "cell_type": "code",
   "execution_count": 64,
   "metadata": {},
   "outputs": [],
   "source": [
    "conversion_rate_df = new_df.filter(df.test == '0').groupBy('country').count().join(conversion, on = 'country')\n"
   ]
  },
  {
   "cell_type": "code",
   "execution_count": 70,
   "metadata": {},
   "outputs": [
    {
     "name": "stdout",
     "output_type": "stream",
     "text": [
      "+-----------+-----+--------------------+----------------------------+\n",
      "|    country|count|Number of conversion|Conversion rate without test|\n",
      "+-----------+-----+--------------------+----------------------------+\n",
      "|      Spain|43146|                3443|         0.07979882260232699|\n",
      "|El Salvador| 3420|                 187|        0.054678362573099416|\n",
      "|  Nicaragua| 2869|                 155|         0.05402579295921924|\n",
      "|   Colombia|22502|                1190|        0.052884188072171365|\n",
      "| Costa Rica| 2196|                 113|         0.05145719489981785|\n",
      "|  Venezuela|13488|                 684|        0.050711743772241996|\n",
      "|   Honduras| 3636|                 184|        0.050605060506050605|\n",
      "|    Ecuador| 6746|                 340|         0.05040023717758672|\n",
      "|     Mexico|53550|                2676|         0.04997198879551821|\n",
      "|  Guatemala| 6373|                 318|         0.04989800721795073|\n",
      "|    Bolivia| 4600|                 228|        0.049565217391304345|\n",
      "|       Peru|13990|                 691|         0.04939242315939957|\n",
      "|      Chile| 8262|                 399|        0.048293391430646336|\n",
      "|     Panama| 1628|                  78|         0.04791154791154791|\n",
      "|   Paraguay| 3007|                 142|        0.047223145992683735|\n",
      "|  Argentina| 7793|                 120|        0.015398434492493264|\n",
      "|    Uruguay|  356|                   3|        0.008426966292134831|\n",
      "+-----------+-----+--------------------+----------------------------+\n",
      "\n"
     ]
    }
   ],
   "source": [
    "\n",
    "without_test_df =\\\n",
    "conversion_rate_df\\\n",
    ".withColumn('Conversion rate without test', conversion_rate_df['Number of conversion']/conversion_rate_df['count'])\\\n",
    ".orderBy('Conversion rate without test', ascending = False)\n",
    "without_test_df.show()"
   ]
  },
  {
   "cell_type": "code",
   "execution_count": 87,
   "metadata": {},
   "outputs": [
    {
     "name": "stdout",
     "output_type": "stream",
     "text": [
      "+-----------+-----+--------------------+-------------------------+\n",
      "|    country|count|Number of conversion|Conversion rate with test|\n",
      "+-----------+-----+--------------------+-------------------------+\n",
      "|  Nicaragua| 2767|                 151|     0.054571738344777736|\n",
      "| Costa Rica| 2182|                 116|      0.05316223648029331|\n",
      "|     Panama| 1662|                  86|      0.05174488567990373|\n",
      "|  Guatemala| 6237|                 320|      0.05130671797338464|\n",
      "|   Colombia|22348|                1140|      0.05101127617683909|\n",
      "|     Mexico|53536|                2727|      0.05093768679019725|\n",
      "|       Peru|14010|                 707|      0.05046395431834404|\n",
      "|  Venezuela|13245|                 660|      0.04983012457531144|\n",
      "|      Chile| 8171|                 406|      0.04968792069514135|\n",
      "|    Bolivia| 4654|                 230|      0.04941985388912763|\n",
      "|   Honduras| 3531|                 173|     0.048994619088077035|\n",
      "|El Salvador| 3355|                 164|       0.0488822652757079|\n",
      "|    Ecuador| 6516|                 318|      0.04880294659300184|\n",
      "|   Paraguay| 3082|                 145|      0.04704737183646982|\n",
      "|  Argentina|31204|                 439|     0.014068709139853865|\n",
      "|    Uruguay| 3098|                  34|     0.010974822466107165|\n",
      "+-----------+-----+--------------------+-------------------------+\n",
      "\n"
     ]
    }
   ],
   "source": [
    "# with test, we want to caculate conversion rate by country\n",
    "conversion_test = new_df.filter((df.test == '1') & (df.conversion == '1')).groupBy('country').count()\n",
    "conversion_test = conversion_test.select(conversion_test['country'],conversion_test['count'].alias(\"Number of conversion\"))\n",
    "conversion_rate_test_df = new_df.filter(df.test == '1').groupBy('country').count().join(conversion_test, on = 'country')\n",
    "with_test_df = \\\n",
    "conversion_rate_test_df\\\n",
    ".withColumn('Conversion rate with test', conversion_rate_test_df['Number of conversion']/conversion_rate_test_df['count'])\\\n",
    ".orderBy('Conversion rate with test', ascending = False)\n",
    "with_test_df.show()"
   ]
  },
  {
   "cell_type": "code",
   "execution_count": 88,
   "metadata": {},
   "outputs": [
    {
     "name": "stdout",
     "output_type": "stream",
     "text": [
      "+-----------+----------+----------------------------+-------------------------+-------------------------+\n",
      "|    country|population|Conversion rate without test|Conversion rate with test|better resulte with test?|\n",
      "+-----------+----------+----------------------------+-------------------------+-------------------------+\n",
      "|     Mexico|    107086|         0.04997198879551821|      0.05093768679019725|                        1|\n",
      "|   Colombia|     44850|        0.052884188072171365|      0.05101127617683909|                        0|\n",
      "|      Spain|     43146|         0.07979882260232699|                     null|                        0|\n",
      "|  Argentina|     38997|        0.015398434492493264|     0.014068709139853865|                        0|\n",
      "|       Peru|     28000|         0.04939242315939957|      0.05046395431834404|                        1|\n",
      "|  Venezuela|     26733|        0.050711743772241996|      0.04983012457531144|                        0|\n",
      "|      Chile|     16433|        0.048293391430646336|      0.04968792069514135|                        1|\n",
      "|    Ecuador|     13262|         0.05040023717758672|      0.04880294659300184|                        0|\n",
      "|  Guatemala|     12610|         0.04989800721795073|      0.05130671797338464|                        1|\n",
      "|    Bolivia|      9254|        0.049565217391304345|      0.04941985388912763|                        0|\n",
      "|   Honduras|      7167|        0.050605060506050605|     0.048994619088077035|                        0|\n",
      "|El Salvador|      6775|        0.054678362573099416|       0.0488822652757079|                        0|\n",
      "|   Paraguay|      6089|        0.047223145992683735|      0.04704737183646982|                        0|\n",
      "|  Nicaragua|      5636|         0.05402579295921924|     0.054571738344777736|                        1|\n",
      "| Costa Rica|      4378|         0.05145719489981785|      0.05316223648029331|                        1|\n",
      "|    Uruguay|      3454|        0.008426966292134831|     0.010974822466107165|                        1|\n",
      "|     Panama|      3290|         0.04791154791154791|      0.05174488567990373|                        1|\n",
      "+-----------+----------+----------------------------+-------------------------+-------------------------+\n",
      "\n"
     ]
    }
   ],
   "source": [
    "# comparing with two case, we found some countries with test has a better conversion rate, such as Mexico\n",
    "comb_df = without_test_df.select('country','Conversion rate without test')\\\n",
    ".join(with_test_df.select('country','Conversion rate with test'), on = 'country',how = 'left')\\\n",
    ".join(pop_df, on = 'country')\n",
    "comb_df.select('country',comb_df['count'].alias('population'),'Conversion rate without test','Conversion rate with test',\\\n",
    "               F.when(comb_df['Conversion rate with test']>comb_df['Conversion rate without test'],1)\\\n",
    "               .otherwise(0).alias('better resulte with test?'))\\\n",
    "         .orderBy('population',ascending = False).show()"
   ]
  },
  {
   "cell_type": "markdown",
   "metadata": {},
   "source": [
    "Conclusion based on the conversion rate: \n",
    "    Ignoring Spain, we found 8 countries has a better result with the language version written by the local, and 8 countries have a worse result. Overall, I don't think that the test is negative is correct. We cannot judge whether this test is positive or negative based on the conversion rate, as the fluctuation is too small to consider. Thus, I don't think the problem is due to translation.  \n",
    "    Additionally, Mexico, the country with most users, has a better result."
   ]
  },
  {
   "cell_type": "code",
   "execution_count": null,
   "metadata": {},
   "outputs": [],
   "source": [
    "import pandas as pd\n",
    "import numpy as np\n",
    "import matplotlib as mp\n",
    "pdf = new_df.select(\"*\").toPandas()"
   ]
  },
  {
   "cell_type": "code",
   "execution_count": null,
   "metadata": {},
   "outputs": [],
   "source": []
  }
 ],
 "metadata": {
  "kernelspec": {
   "display_name": "Python 3",
   "language": "python",
   "name": "python3"
  },
  "language_info": {
   "codemirror_mode": {
    "name": "ipython",
    "version": 3
   },
   "file_extension": ".py",
   "mimetype": "text/x-python",
   "name": "python",
   "nbconvert_exporter": "python",
   "pygments_lexer": "ipython3",
   "version": "3.7.3"
  }
 },
 "nbformat": 4,
 "nbformat_minor": 2
}
